{
 "cells": [
  {
   "cell_type": "markdown",
   "metadata": {},
   "source": [
    "# Analiza głosowań w Sejmie"
   ]
  },
  {
   "cell_type": "code",
   "execution_count": 1,
   "metadata": {
    "collapsed": false
   },
   "outputs": [
    {
     "data": {
      "text/html": [
       "<script>\n",
       "code_show=true; \n",
       "function code_toggle() {\n",
       " if (code_show){\n",
       " $('div.input').hide();\n",
       " } else {\n",
       " $('div.input').show();\n",
       " }\n",
       " code_show = !code_show\n",
       "} \n",
       "$( document ).ready(code_toggle);\n",
       "</script>\n",
       "Kod w tym notatniku jest ukryty dla wygodniejszego czytania. Jeżeli chcesz go zobaczyć naciśnij <a href=\"javascript:code_toggle()\">tutaj</a>."
      ],
      "text/plain": [
       "<IPython.core.display.HTML object>"
      ]
     },
     "execution_count": 1,
     "metadata": {},
     "output_type": "execute_result"
    }
   ],
   "source": [
    "from IPython.display import HTML\n",
    "HTML('''<script>\n",
    "code_show=true; \n",
    "function code_toggle() {\n",
    " if (code_show){\n",
    " $('div.input').hide();\n",
    " } else {\n",
    " $('div.input').show();\n",
    " }\n",
    " code_show = !code_show\n",
    "} \n",
    "$( document ).ready(code_toggle);\n",
    "</script>\n",
    "Kod w tym notatniku jest ukryty dla wygodniejszego czytania. Jeżeli chcesz go zobaczyć naciśnij <a href=\"javascript:code_toggle()\">tutaj</a>.''')"
   ]
  },
  {
   "cell_type": "markdown",
   "metadata": {},
   "source": [
    "Tak wyglądają przykładowe dane z głosowania"
   ]
  },
  {
   "cell_type": "code",
   "execution_count": 6,
   "metadata": {
    "collapsed": false,
    "scrolled": false
   },
   "outputs": [
    {
     "data": {
      "text/html": [
       "<div>\n",
       "<table border=\"1\" class=\"dataframe\">\n",
       "  <thead>\n",
       "    <tr style=\"text-align: right;\">\n",
       "      <th></th>\n",
       "      <th>﻿posel</th>\n",
       "      <th>glos_57_10</th>\n",
       "      <th>glos_11_9</th>\n",
       "      <th>glos_56_140</th>\n",
       "      <th>glos_32_117</th>\n",
       "      <th>glos_31_166</th>\n",
       "      <th>glos_24_5</th>\n",
       "      <th>glos_39_78</th>\n",
       "      <th>glos_39_46</th>\n",
       "      <th>glos_19_6</th>\n",
       "      <th>...</th>\n",
       "      <th>glos_5_33</th>\n",
       "      <th>glos_30_65</th>\n",
       "      <th>glos_10_333</th>\n",
       "      <th>glos_43_40</th>\n",
       "      <th>glos_23_87</th>\n",
       "      <th>glos_56_145</th>\n",
       "      <th>glos_39_40</th>\n",
       "      <th>glos_43_11</th>\n",
       "      <th>glos_54_20</th>\n",
       "      <th>glos_52_31</th>\n",
       "    </tr>\n",
       "  </thead>\n",
       "  <tbody>\n",
       "    <tr>\n",
       "      <th>0</th>\n",
       "      <td>ABRAMOWICZ ADAM</td>\n",
       "      <td>ng.</td>\n",
       "      <td>pr.</td>\n",
       "      <td>pr.</td>\n",
       "      <td>za</td>\n",
       "      <td>pr.</td>\n",
       "      <td>za</td>\n",
       "      <td>za</td>\n",
       "      <td>pr.</td>\n",
       "      <td>pr.</td>\n",
       "      <td>...</td>\n",
       "      <td>pr.</td>\n",
       "      <td>pr.</td>\n",
       "      <td>ng.</td>\n",
       "      <td>pr.</td>\n",
       "      <td>za</td>\n",
       "      <td>pr.</td>\n",
       "      <td>za</td>\n",
       "      <td>pr.</td>\n",
       "      <td>pr.</td>\n",
       "      <td>za</td>\n",
       "    </tr>\n",
       "    <tr>\n",
       "      <th>1</th>\n",
       "      <td>ADAMCZYK ANDRZEJ</td>\n",
       "      <td>za</td>\n",
       "      <td>ng.</td>\n",
       "      <td>pr.</td>\n",
       "      <td>za</td>\n",
       "      <td>pr.</td>\n",
       "      <td>za</td>\n",
       "      <td>za</td>\n",
       "      <td>pr.</td>\n",
       "      <td>pr.</td>\n",
       "      <td>...</td>\n",
       "      <td>pr.</td>\n",
       "      <td>pr.</td>\n",
       "      <td>pr.</td>\n",
       "      <td>pr.</td>\n",
       "      <td>ng.</td>\n",
       "      <td>pr.</td>\n",
       "      <td>za</td>\n",
       "      <td>ng.</td>\n",
       "      <td>pr.</td>\n",
       "      <td>ng.</td>\n",
       "    </tr>\n",
       "    <tr>\n",
       "      <th>2</th>\n",
       "      <td>AJCHLER ZBIGNIEW</td>\n",
       "      <td>pr.</td>\n",
       "      <td>za</td>\n",
       "      <td>ng.</td>\n",
       "      <td>pr.</td>\n",
       "      <td>za</td>\n",
       "      <td>za</td>\n",
       "      <td>za</td>\n",
       "      <td>za</td>\n",
       "      <td>za</td>\n",
       "      <td>...</td>\n",
       "      <td>za</td>\n",
       "      <td>za</td>\n",
       "      <td>za</td>\n",
       "      <td>pr.</td>\n",
       "      <td>pr.</td>\n",
       "      <td>ng.</td>\n",
       "      <td>pr.</td>\n",
       "      <td>za</td>\n",
       "      <td>za</td>\n",
       "      <td>za</td>\n",
       "    </tr>\n",
       "    <tr>\n",
       "      <th>3</th>\n",
       "      <td>ANDRUSZKIEWICZ ADAM</td>\n",
       "      <td>za</td>\n",
       "      <td>ws.</td>\n",
       "      <td>pr.</td>\n",
       "      <td>pr.</td>\n",
       "      <td>pr.</td>\n",
       "      <td>ng.</td>\n",
       "      <td>za</td>\n",
       "      <td>za</td>\n",
       "      <td>ws.</td>\n",
       "      <td>...</td>\n",
       "      <td>pr.</td>\n",
       "      <td>ws.</td>\n",
       "      <td>za</td>\n",
       "      <td>pr.</td>\n",
       "      <td>za</td>\n",
       "      <td>pr.</td>\n",
       "      <td>za</td>\n",
       "      <td>za</td>\n",
       "      <td>ng.</td>\n",
       "      <td>za</td>\n",
       "    </tr>\n",
       "    <tr>\n",
       "      <th>4</th>\n",
       "      <td>ANDZEL WALDEMAR</td>\n",
       "      <td>za</td>\n",
       "      <td>pr.</td>\n",
       "      <td>pr.</td>\n",
       "      <td>za</td>\n",
       "      <td>pr.</td>\n",
       "      <td>za</td>\n",
       "      <td>za</td>\n",
       "      <td>pr.</td>\n",
       "      <td>pr.</td>\n",
       "      <td>...</td>\n",
       "      <td>pr.</td>\n",
       "      <td>pr.</td>\n",
       "      <td>pr.</td>\n",
       "      <td>pr.</td>\n",
       "      <td>za</td>\n",
       "      <td>pr.</td>\n",
       "      <td>za</td>\n",
       "      <td>pr.</td>\n",
       "      <td>pr.</td>\n",
       "      <td>za</td>\n",
       "    </tr>\n",
       "  </tbody>\n",
       "</table>\n",
       "<p>5 rows × 5192 columns</p>\n",
       "</div>"
      ],
      "text/plain": [
       "                ﻿posel glos_57_10 glos_11_9 glos_56_140 glos_32_117  \\\n",
       "0      ABRAMOWICZ ADAM        ng.       pr.         pr.          za   \n",
       "1     ADAMCZYK ANDRZEJ         za       ng.         pr.          za   \n",
       "2     AJCHLER ZBIGNIEW        pr.        za         ng.         pr.   \n",
       "3  ANDRUSZKIEWICZ ADAM         za       ws.         pr.         pr.   \n",
       "4      ANDZEL WALDEMAR         za       pr.         pr.          za   \n",
       "\n",
       "  glos_31_166 glos_24_5 glos_39_78 glos_39_46 glos_19_6    ...     glos_5_33  \\\n",
       "0         pr.        za         za        pr.       pr.    ...           pr.   \n",
       "1         pr.        za         za        pr.       pr.    ...           pr.   \n",
       "2          za        za         za         za        za    ...            za   \n",
       "3         pr.       ng.         za         za       ws.    ...           pr.   \n",
       "4         pr.        za         za        pr.       pr.    ...           pr.   \n",
       "\n",
       "  glos_30_65 glos_10_333 glos_43_40 glos_23_87 glos_56_145 glos_39_40  \\\n",
       "0        pr.         ng.        pr.         za         pr.         za   \n",
       "1        pr.         pr.        pr.        ng.         pr.         za   \n",
       "2         za          za        pr.        pr.         ng.        pr.   \n",
       "3        ws.          za        pr.         za         pr.         za   \n",
       "4        pr.         pr.        pr.         za         pr.         za   \n",
       "\n",
       "  glos_43_11 glos_54_20 glos_52_31  \n",
       "0        pr.        pr.         za  \n",
       "1        ng.        pr.        ng.  \n",
       "2         za         za         za  \n",
       "3         za        ng.         za  \n",
       "4        pr.        pr.         za  \n",
       "\n",
       "[5 rows x 5192 columns]"
      ]
     },
     "execution_count": 6,
     "metadata": {},
     "output_type": "execute_result"
    }
   ],
   "source": [
    "import pandas as pd\n",
    "import numpy as np\n",
    "#import seaborn as sns\n",
    "import matplotlib.pyplot as plt \n",
    "df = pd.read_csv(\"kad8\\\\glos1.csv\")\n",
    "df.head()"
   ]
  },
  {
   "cell_type": "code",
   "execution_count": 52,
   "metadata": {
    "collapsed": true
   },
   "outputs": [],
   "source": [
    "## Zamiana głosów za i przeciw na 0 i 1 \n",
    "def mapa (x):\n",
    "    if x==\"za\":\n",
    "        return 1\n",
    "    elif x==\"pr.\":\n",
    "        return 0\n",
    "    elif x==\"ng.\":\n",
    "        return np.nan\n",
    "    elif x==\"ws.\":\n",
    "        return 0\n",
    "    else:\n",
    "        return x\n",
    "    \n",
    "def mapa_row(x):\n",
    "    return x.apply(mapa)\n",
    "    \n",
    "liczby= df.apply(mapa_row)\n",
    "liczby = liczby.drop(\"glos_33_15\", axis=1)"
   ]
  },
  {
   "cell_type": "markdown",
   "metadata": {},
   "source": [
    "### Sprawdzenie ilości głosów za i przeciw w losowych głosowaniach (1 to głosy za a 0 i NULL to głosy przeciw/wstrzymanie  się/nieobecność)"
   ]
  },
  {
   "cell_type": "code",
   "execution_count": 160,
   "metadata": {
    "collapsed": false,
    "scrolled": true
   },
   "outputs": [
    {
     "data": {
      "text/plain": [
       "glos_1_28    457.0\n",
       "glos_1_23    457.0\n",
       "glos_1_26    456.0\n",
       "glos_4_6     456.0\n",
       "glos_1_35    456.0\n",
       "glos_1_37    455.0\n",
       "glos_1_30    455.0\n",
       "glos_1_38    455.0\n",
       "glos_1_36    455.0\n",
       "glos_1_20    455.0\n",
       "dtype: float64"
      ]
     },
     "execution_count": 160,
     "metadata": {},
     "output_type": "execute_result"
    }
   ],
   "source": [
    "liczby.drop(\"posel\", axis=1).apply(np.nansum).sort_values(ascending=False).head(10)"
   ]
  },
  {
   "cell_type": "markdown",
   "metadata": {},
   "source": [
    "### Sprawdzenie godzin głosowania"
   ]
  },
  {
   "cell_type": "code",
   "execution_count": 7,
   "metadata": {
    "collapsed": true
   },
   "outputs": [],
   "source": [
    "daty= pd.read_csv(\"kad8\\\\dates.csv\")\n",
    "daty.date= pd.to_datetime(daty.date)"
   ]
  },
  {
   "cell_type": "code",
   "execution_count": 84,
   "metadata": {
    "collapsed": false
   },
   "outputs": [
    {
     "data": {
      "image/png": "[encoded data removed]",
      "text/plain": [
       "<matplotlib.figure.Figure at 0x20103199cf8>"
      ]
     },
     "metadata": {},
     "output_type": "display_data"
    }
   ],
   "source": [
    "daty[\"godzina\"] = pd.to_datetime(daty.time).dt.hour\n",
    "plt.hist(daty.godzina, bins=24)\n",
    "plt.show()"
   ]
  },
  {
   "cell_type": "markdown",
   "metadata": {},
   "source": [
    "### Czyszczenie kolumny voting aby powstały 2 dodatkowe kolumny- nr posiedzenia i nr głosowania"
   ]
  },
  {
   "cell_type": "code",
   "execution_count": 138,
   "metadata": {
    "collapsed": false
   },
   "outputs": [
    {
     "data": {
      "text/html": [
       "<div>\n",
       "<style>\n",
       "    .dataframe thead tr:only-child th {\n",
       "        text-align: right;\n",
       "    }\n",
       "\n",
       "    .dataframe thead th {\n",
       "        text-align: left;\n",
       "    }\n",
       "\n",
       "    .dataframe tbody tr th {\n",
       "        vertical-align: top;\n",
       "    }\n",
       "</style>\n",
       "<table border=\"1\" class=\"dataframe\">\n",
       "  <thead>\n",
       "    <tr style=\"text-align: right;\">\n",
       "      <th></th>\n",
       "      <th>voting</th>\n",
       "      <th>date</th>\n",
       "      <th>time</th>\n",
       "      <th>godzina</th>\n",
       "      <th>posiedzenie</th>\n",
       "      <th>glosowanie</th>\n",
       "    </tr>\n",
       "  </thead>\n",
       "  <tbody>\n",
       "    <tr>\n",
       "      <th>0</th>\n",
       "      <td>glos_10_1</td>\n",
       "      <td>2016-01-28</td>\n",
       "      <td>20:17:10</td>\n",
       "      <td>20</td>\n",
       "      <td>10</td>\n",
       "      <td>1</td>\n",
       "    </tr>\n",
       "    <tr>\n",
       "      <th>1</th>\n",
       "      <td>glos_10_10</td>\n",
       "      <td>2016-01-28</td>\n",
       "      <td>20:52:02</td>\n",
       "      <td>20</td>\n",
       "      <td>10</td>\n",
       "      <td>10</td>\n",
       "    </tr>\n",
       "    <tr>\n",
       "      <th>2</th>\n",
       "      <td>glos_10_100</td>\n",
       "      <td>2016-01-29</td>\n",
       "      <td>00:32:27</td>\n",
       "      <td>0</td>\n",
       "      <td>10</td>\n",
       "      <td>100</td>\n",
       "    </tr>\n",
       "    <tr>\n",
       "      <th>3</th>\n",
       "      <td>glos_10_101</td>\n",
       "      <td>2016-01-29</td>\n",
       "      <td>00:34:53</td>\n",
       "      <td>0</td>\n",
       "      <td>10</td>\n",
       "      <td>101</td>\n",
       "    </tr>\n",
       "    <tr>\n",
       "      <th>4</th>\n",
       "      <td>glos_10_102</td>\n",
       "      <td>2016-01-29</td>\n",
       "      <td>00:36:48</td>\n",
       "      <td>0</td>\n",
       "      <td>10</td>\n",
       "      <td>102</td>\n",
       "    </tr>\n",
       "  </tbody>\n",
       "</table>\n",
       "</div>"
      ],
      "text/plain": [
       "        voting       date      time  godzina  posiedzenie  glosowanie\n",
       "0    glos_10_1 2016-01-28  20:17:10       20           10           1\n",
       "1   glos_10_10 2016-01-28  20:52:02       20           10          10\n",
       "2  glos_10_100 2016-01-29  00:32:27        0           10         100\n",
       "3  glos_10_101 2016-01-29  00:34:53        0           10         101\n",
       "4  glos_10_102 2016-01-29  00:36:48        0           10         102"
      ]
     },
     "execution_count": 138,
     "metadata": {},
     "output_type": "execute_result"
    }
   ],
   "source": [
    "a=[]\n",
    "for i in daty['voting'].str.split('_'):\n",
    "    a.append(i[1])\n",
    "daty[\"posiedzenie\"] = a\n",
    "a=[]\n",
    "for i in daty['voting'].str.split('_'):\n",
    "    a.append(i[2])\n",
    "daty[\"glosowanie\"] = a\n",
    "#daty = daty.drop([\"a\"], axis=1)\n",
    "daty.glosowanie= pd.to_numeric(daty.glosowanie)\n",
    "daty.godzina= pd.to_numeric(daty.godzina)\n",
    "daty.posiedzenie = pd.to_numeric(daty.posiedzenie)\n",
    "daty.head()"
   ]
  },
  {
   "cell_type": "markdown",
   "metadata": {},
   "source": [
    "### Sprawdzenie ile głosowań odbywa się na jednym posiedzeniu"
   ]
  },
  {
   "cell_type": "code",
   "execution_count": 136,
   "metadata": {
    "collapsed": false
   },
   "outputs": [
    {
     "data": {
      "image/png": "[encoded data removed]",
      "text/plain": [
       "<matplotlib.figure.Figure at 0x20103841c18>"
      ]
     },
     "metadata": {},
     "output_type": "display_data"
    }
   ],
   "source": [
    "plt.close()\n",
    "plt.hist(daty.groupby([\"posiedzenie\"]).size(), bins=50)\n",
    "plt.show()"
   ]
  },
  {
   "cell_type": "markdown",
   "metadata": {},
   "source": [
    "### Ile głosowań odbyło się w godzinach nocnych w ramach danego posiedzenia?"
   ]
  },
  {
   "cell_type": "markdown",
   "metadata": {},
   "source": [
    "Mała ilość głosowań wskazuje na \"przeciągnięcie się\" posiedzenia, natomiast duża może świadczyć o celowym zaplanowaniu posiedzenia na godziny wieczorne"
   ]
  },
  {
   "cell_type": "code",
   "execution_count": 158,
   "metadata": {
    "collapsed": false,
    "scrolled": false
   },
   "outputs": [
    {
     "data": {
      "text/plain": [
       "posiedzenie\n",
       "1      10\n",
       "2       7\n",
       "10    239\n",
       "18      3\n",
       "32     56\n",
       "43     24\n",
       "46      1\n",
       "54     16\n",
       "55     69\n",
       "dtype: int64"
      ]
     },
     "execution_count": 158,
     "metadata": {},
     "output_type": "execute_result"
    }
   ],
   "source": [
    "daty.query(\"godzina>22 or godzina<5\").groupby(\"posiedzenie\").size()"
   ]
  }
 ],
 "metadata": {
  "anaconda-cloud": {},
  "kernelspec": {
   "display_name": "Python [default]",
   "language": "python",
   "name": "python3"
  },
  "language_info": {
   "codemirror_mode": {
    "name": "ipython",
    "version": 3
   },
   "file_extension": ".py",
   "mimetype": "text/x-python",
   "name": "python",
   "nbconvert_exporter": "python",
   "pygments_lexer": "ipython3",
   "version": "3.5.2"
  }
 },
 "nbformat": 4,
 "nbformat_minor": 2
}
