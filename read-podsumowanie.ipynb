{
 "cells": [
  {
   "cell_type": "markdown",
   "metadata": {},
   "source": [
    "# Wczytanie danych o posłach"
   ]
  },
  {
   "cell_type": "markdown",
   "metadata": {},
   "source": [
    "### ten skrypt umożliwia pobranie danych o poszczególnych posłach, takich ja wykształcenie, data urodzenia itd."
   ]
  },
  {
   "cell_type": "markdown",
   "metadata": {},
   "source": [
    "wczytanie bibliotek"
   ]
  },
  {
   "cell_type": "code",
   "execution_count": 1,
   "metadata": {
    "collapsed": true
   },
   "outputs": [],
   "source": [
    "from bs4 import BeautifulSoup\n",
    "import requests\n",
    "import pandas as pd"
   ]
  },
  {
   "cell_type": "markdown",
   "metadata": {},
   "source": [
    "Wczytanie danych próbnych ze strony za pomocą BeautifulSoup"
   ]
  },
  {
   "cell_type": "markdown",
   "metadata": {},
   "source": [
    "### Wczytanie wszystkich posłów do słownika"
   ]
  },
  {
   "cell_type": "code",
   "execution_count": 2,
   "metadata": {
    "collapsed": false
   },
   "outputs": [],
   "source": [
    "all_dicts = []\n",
    "for i in range(1,459):\n",
    "    url = \"http://www.sejm.gov.pl/sejm8.nsf/posel.xsp?id=\"+str(i).zfill(3)+\"&type=A\"\n",
    "    page = requests.get(url)\n",
    "    c = page.content\n",
    "    soup = BeautifulSoup(c, \"lxml\")\n",
    "    key = soup.find_all(\"p\", \"left\")\n",
    "    value = soup.find_all(\"p\", \"right\")\n",
    "    value_sl = []\n",
    "    key_sl = []\n",
    "    all_sl = {}\n",
    "    for j in range(len(key)):\n",
    "        #value_sl.append(value[j].find(text = True))\n",
    "        #key_sl.append(key[j].find(text=True))\n",
    "        all_sl[key[j].find(text = True)] = value[j].find(text=True)\n",
    "    \n",
    "    #if all_sl[\"Funkcja w klubie/kole:\"]:\n",
    "    all_sl.pop(\"Funkcja w klubie/kole:\", None)\n",
    "    #if all_sl[\"Email:\"]:\n",
    "    all_sl.pop(\"Email:\", None)\n",
    "    if \"Wybrana dnia:\" in all_sl:\n",
    "        all_sl[\"Wybrany dnia:\"]= all_sl.pop(\"Wybrana dnia:\")\n",
    "        \n",
    "    all_sl[\"imie\"]= soup.find(\"h1\", text= True).find(text= True)\n",
    "    all_dicts.append(all_sl)\n",
    "    #print(i)\n",
    "\n"
   ]
  },
  {
   "cell_type": "code",
   "execution_count": 1,
   "metadata": {
    "collapsed": false
   },
   "outputs": [
    {
     "ename": "NameError",
     "evalue": "name 'all_dicts' is not defined",
     "output_type": "error",
     "traceback": [
      "\u001b[0;31m---------------------------------------------------------------------------\u001b[0m",
      "\u001b[0;31mNameError\u001b[0m                                 Traceback (most recent call last)",
      "\u001b[0;32m<ipython-input-1-0f83a7c0b84f>\u001b[0m in \u001b[0;36m<module>\u001b[0;34m()\u001b[0m\n\u001b[0;32m----> 1\u001b[0;31m \u001b[0mall_dicts\u001b[0m\u001b[1;33m[\u001b[0m\u001b[1;36m0\u001b[0m\u001b[1;33m]\u001b[0m\u001b[1;33m\u001b[0m\u001b[0m\n\u001b[0m",
      "\u001b[0;31mNameError\u001b[0m: name 'all_dicts' is not defined"
     ]
    }
   ],
   "source": [
    "all_dicts[0]"
   ]
  },
  {
   "cell_type": "markdown",
   "metadata": {},
   "source": [
    "## Zapisanie danych do pliku csv"
   ]
  },
  {
   "cell_type": "code",
   "execution_count": 3,
   "metadata": {
    "collapsed": true
   },
   "outputs": [],
   "source": [
    "df = pd.DataFrame(data=all_dicts)\n",
    "df.to_csv(\"osoby.csv\", encoding=\"utf-8\")"
   ]
  }
 ],
 "metadata": {
  "anaconda-cloud": {},
  "kernelspec": {
   "display_name": "Python [default]",
   "language": "python",
   "name": "python3"
  },
  "language_info": {
   "codemirror_mode": {
    "name": "ipython",
    "version": 3
   },
   "file_extension": ".py",
   "mimetype": "text/x-python",
   "name": "python",
   "nbconvert_exporter": "python",
   "pygments_lexer": "ipython3",
   "version": "3.5.2"
  }
 },
 "nbformat": 4,
 "nbformat_minor": 2
}
