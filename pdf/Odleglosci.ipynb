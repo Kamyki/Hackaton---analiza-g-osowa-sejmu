{
 "cells": [
  {
   "cell_type": "code",
   "execution_count": 2,
   "metadata": {
    "collapsed": true
   },
   "outputs": [],
   "source": [
    "import pandas as pd\n",
    "import numpy as np"
   ]
  },
  {
   "cell_type": "code",
   "execution_count": 224,
   "metadata": {
    "collapsed": true
   },
   "outputs": [],
   "source": [
    "partie=[\"PiS\",\"PO\",\"Kukiz15\",\"N\",\"PSL-UED\",\"WiS\",\"niez.\",\"Republikanie\"]\n",
    "glosy=[\"za\",\"pr.\",\"ws.\",\"ng.\"]\n",
    "liczba_glosowan=5191\n",
    "liczba_poslow=476"
   ]
  },
  {
   "cell_type": "code",
   "execution_count": 130,
   "metadata": {},
   "outputs": [],
   "source": [
    "#losowe dane\n",
    "glosowania=pd.DataFrame(np.random.choice(glosy,(liczba_poslow,liczba_glosowan)))\n",
    "glosy_partii={}\n",
    "for p in partie:\n",
    "    glosy_partii[p]=pd.DataFrame()\n",
    "    glosy_partii[p][\"za\"]=np.random.sample(liczba_glosowan)\n",
    "    glosy_partii[p][\"pr.\"]=np.random.sample(liczba_glosowan)*(1-glosy_partii[p][\"za\"])\n",
    "    glosy_partii[p][\"ws.\"]=np.random.sample(liczba_glosowan)*(1-glosy_partii[p][\"za\"]-glosy_partii[p][\"pr.\"])\n",
    "    glosy_partii[p][\"ng.\"]=1-glosy_partii[p][\"za\"]-glosy_partii[p][\"pr.\"]-glosy_partii[p][\"ws.\"]\n",
    "    glosy_partii[p][\"brak\"]=0.5"
   ]
  },
  {
   "cell_type": "code",
   "execution_count": 154,
   "metadata": {},
   "outputs": [],
   "source": [
    "glosowania=pd.read_csv(\"../kad8/glos1.csv\")"
   ]
  },
  {
   "cell_type": "code",
   "execution_count": 232,
   "metadata": {},
   "outputs": [],
   "source": [
    "przynaleznosc=pd.read_csv(\"../kad8/partie.csv\")"
   ]
  },
  {
   "cell_type": "code",
   "execution_count": 167,
   "metadata": {},
   "outputs": [],
   "source": [
    "glosy_partii={}\n",
    "for p in partie:\n",
    "    x=pd.read_csv(\"../glosy_partii_\"+p+\".csv\")\n",
    "    glosy_partii[p]=pd.DataFrame()\n",
    "    glosy_partii[p][\"za\"]=x.iloc[4]\n",
    "    glosy_partii[p][\"pr.\"]=x.iloc[2]\n",
    "    glosy_partii[p][\"ws.\"]=x.iloc[3]\n",
    "    glosy_partii[p][\"ng.\"]=x.iloc[1]\n",
    "    glosy_partii[p][\"brak\"]=0.5\n",
    "    glosy_partii[p]=glosy_partii[p].drop(\"glosy\")\n",
    "    "
   ]
  },
  {
   "cell_type": "code",
   "execution_count": 203,
   "metadata": {},
   "outputs": [],
   "source": [
    "odleglosci=pd.DataFrame()\n",
    "odleglosci[posel]=glosowania[posel]\n",
    "for p in partie:\n",
    "    x=np.zeros(liczba_poslow)\n",
    "    for nr_glosowania in range(1,liczba_glosowan):\n",
    "        x=x+1-glosy_partii[p].iloc[nr_glosowania][glosowania[glosowania.columns[nr_glosowania+1]]].as_matrix()\n",
    "    odleglosci[p]=x/liczba_glosowan\n",
    "odleglosci[\"partia_ostatnio\"]=przynaleznosc[\"glos_60_47\"]"
   ]
  },
  {
   "cell_type": "code",
   "execution_count": 237,
   "metadata": {},
   "outputs": [],
   "source": [
    "odleglosci[\"partia_ostatnio\"]=przynaleznosc[\"glos_60_47\"]"
   ]
  },
  {
   "cell_type": "code",
   "execution_count": 240,
   "metadata": {},
   "outputs": [],
   "source": [
    "odleglosci.to_csv(\"odleglosci.csv\")"
   ]
  },
  {
   "cell_type": "code",
   "execution_count": null,
   "metadata": {
    "collapsed": true
   },
   "outputs": [],
   "source": []
  }
 ],
 "metadata": {
  "kernelspec": {
   "display_name": "Python 3",
   "language": "python",
   "name": "python3"
  },
  "language_info": {
   "codemirror_mode": {
    "name": "ipython",
    "version": 3
   },
   "file_extension": ".py",
   "mimetype": "text/x-python",
   "name": "python",
   "nbconvert_exporter": "python",
   "pygments_lexer": "ipython3",
   "version": "3.6.3"
  }
 },
 "nbformat": 4,
 "nbformat_minor": 2
}
